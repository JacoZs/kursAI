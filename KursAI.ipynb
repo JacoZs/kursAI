{
  "cells": [
    {
      "cell_type": "code",
      "execution_count": null,
      "metadata": {
        "colab": {
          "base_uri": "https://localhost:8080/"
        },
        "id": "dN7y5Xd8iMnZ",
        "outputId": "3c96cd4a-f777-4292-ed67-42399a65e119"
      },
      "outputs": [
        {
          "name": "stdout",
          "output_type": "stream",
          "text": [
            "\u001b[33mhint: Using 'master' as the name for the initial branch. This default branch name\u001b[m\n",
            "\u001b[33mhint: is subject to change. To configure the initial branch name to use in all\u001b[m\n",
            "\u001b[33mhint: of your new repositories, which will suppress this warning, call:\u001b[m\n",
            "\u001b[33mhint: \u001b[m\n",
            "\u001b[33mhint: \tgit config --global init.defaultBranch <name>\u001b[m\n",
            "\u001b[33mhint: \u001b[m\n",
            "\u001b[33mhint: Names commonly chosen instead of 'master' are 'main', 'trunk' and\u001b[m\n",
            "\u001b[33mhint: 'development'. The just-created branch can be renamed via this command:\u001b[m\n",
            "\u001b[33mhint: \u001b[m\n",
            "\u001b[33mhint: \tgit branch -m <name>\u001b[m\n",
            "Initialized empty Git repository in /content/.git/\n"
          ]
        }
      ],
      "source": [
        "!git init\n",
        "!git config --global user.name \"Jacek\"\n",
        "!git config --global user.email \"jacek.o@ai.com\""
      ]
    },
    {
      "cell_type": "code",
      "execution_count": null,
      "metadata": {
        "id": "hs5G9Y6xmQsY"
      },
      "outputs": [],
      "source": [
        "!git add .\n"
      ]
    },
    {
      "cell_type": "code",
      "execution_count": null,
      "metadata": {
        "colab": {
          "base_uri": "https://localhost:8080/"
        },
        "id": "98EnTKhMmevG",
        "outputId": "44c3f00f-0b0f-44da-b36c-74901f1f801a"
      },
      "outputs": [
        {
          "name": "stdout",
          "output_type": "stream",
          "text": [
            "[master (root-commit) 2abaccf] inint comit\n",
            " 21 files changed, 51023 insertions(+)\n",
            " create mode 100644 .config/.last_opt_in_prompt.yaml\n",
            " create mode 100644 .config/.last_survey_prompt.yaml\n",
            " create mode 100644 .config/.last_update_check.json\n",
            " create mode 100644 .config/active_config\n",
            " create mode 100644 .config/config_sentinel\n",
            " create mode 100644 .config/configurations/config_default\n",
            " create mode 100644 .config/default_configs.db\n",
            " create mode 100644 .config/gce\n",
            " create mode 100644 .config/hidden_gcloud_config_universe_descriptor_data_cache_configs.db\n",
            " create mode 100644 .config/logs/2025.02.13/14.17.52.239776.log\n",
            " create mode 100644 .config/logs/2025.02.13/14.18.22.924899.log\n",
            " create mode 100644 .config/logs/2025.02.13/14.18.31.091747.log\n",
            " create mode 100644 .config/logs/2025.02.13/14.18.34.923015.log\n",
            " create mode 100644 .config/logs/2025.02.13/14.18.43.611991.log\n",
            " create mode 100644 .config/logs/2025.02.13/14.18.44.294756.log\n",
            " create mode 100755 sample_data/README.md\n",
            " create mode 100755 sample_data/anscombe.json\n",
            " create mode 100644 sample_data/california_housing_test.csv\n",
            " create mode 100644 sample_data/california_housing_train.csv\n",
            " create mode 100644 sample_data/mnist_test.csv\n",
            " create mode 100644 sample_data/mnist_train_small.csv\n"
          ]
        }
      ],
      "source": [
        "!git commit -m \"inint comit\""
      ]
    },
    {
      "cell_type": "code",
      "execution_count": null,
      "metadata": {
        "id": "74TFWKR0m17e"
      },
      "outputs": [],
      "source": [
        "!git branch -M main"
      ]
    },
    {
      "cell_type": "code",
      "execution_count": null,
      "metadata": {
        "id": "QdOHMPHWpN6t"
      },
      "outputs": [],
      "source": [
        "!git remote remove origin"
      ]
    },
    {
      "cell_type": "code",
      "execution_count": null,
      "metadata": {
        "colab": {
          "base_uri": "https://localhost:8080/"
        },
        "id": "HVlpwtLOolrE",
        "outputId": "0178b0f2-d154-4f60-caca-01bac6dd3dcc"
      },
      "outputs": [
        {
          "name": "stdout",
          "output_type": "stream",
          "text": [
            "Enumerating objects: 28, done.\n",
            "Counting objects:   3% (1/28)\rCounting objects:   7% (2/28)\rCounting objects:  10% (3/28)\rCounting objects:  14% (4/28)\rCounting objects:  17% (5/28)\rCounting objects:  21% (6/28)\rCounting objects:  25% (7/28)\rCounting objects:  28% (8/28)\rCounting objects:  32% (9/28)\rCounting objects:  35% (10/28)\rCounting objects:  39% (11/28)\rCounting objects:  42% (12/28)\rCounting objects:  46% (13/28)\rCounting objects:  50% (14/28)\rCounting objects:  53% (15/28)\rCounting objects:  57% (16/28)\rCounting objects:  60% (17/28)\rCounting objects:  64% (18/28)\rCounting objects:  67% (19/28)\rCounting objects:  71% (20/28)\rCounting objects:  75% (21/28)\rCounting objects:  78% (22/28)\rCounting objects:  82% (23/28)\rCounting objects:  85% (24/28)\rCounting objects:  89% (25/28)\rCounting objects:  92% (26/28)\rCounting objects:  96% (27/28)\rCounting objects: 100% (28/28)\rCounting objects: 100% (28/28), done.\n",
            "Delta compression using up to 2 threads\n",
            "Compressing objects: 100% (21/21), done.\n",
            "Writing objects: 100% (28/28), 8.42 MiB | 1.52 MiB/s, done.\n",
            "Total 28 (delta 4), reused 0 (delta 0), pack-reused 0\n",
            "remote: Resolving deltas: 100% (4/4), done.\u001b[K\n",
            "To https://github.com/JacoZs/kursAI.git\n",
            " * [new branch]      main -> main\n",
            "Branch 'main' set up to track remote branch 'main' from 'origin'.\n"
          ]
        }
      ],
      "source": [
        "!git push -u origin main"
      ]
    },
    {
      "cell_type": "code",
      "execution_count": null,
      "metadata": {
        "colab": {
          "base_uri": "https://localhost:8080/"
        },
        "id": "NkMBC29GqKP0",
        "outputId": "d55e009e-ac7e-442a-f92f-b57f1200e84c"
      },
      "outputs": [
        {
          "name": "stdout",
          "output_type": "stream",
          "text": [
            "remote: Enumerating objects: 4, done.\u001b[K\n",
            "remote: Counting objects:  25% (1/4)\u001b[K\rremote: Counting objects:  50% (2/4)\u001b[K\rremote: Counting objects:  75% (3/4)\u001b[K\rremote: Counting objects: 100% (4/4)\u001b[K\rremote: Counting objects: 100% (4/4), done.\u001b[K\n",
            "remote: Compressing objects:  50% (1/2)\u001b[K\rremote: Compressing objects: 100% (2/2)\u001b[K\rremote: Compressing objects: 100% (2/2), done.\u001b[K\n",
            "remote: Total 3 (delta 0), reused 0 (delta 0), pack-reused 0 (from 0)\u001b[K\n",
            "Unpacking objects:  33% (1/3)\rUnpacking objects:  66% (2/3)\rUnpacking objects: 100% (3/3)\rUnpacking objects: 100% (3/3), 961 bytes | 961.00 KiB/s, done.\n",
            "From https://github.com/JacoZs/kursAI\n",
            " * branch            main       -> FETCH_HEAD\n",
            "   2abaccf..e2dc50a  main       -> origin/main\n",
            "Updating 2abaccf..e2dc50a\n",
            "Fast-forward\n",
            " README.md | 1 \u001b[32m+\u001b[m\n",
            " 1 file changed, 1 insertion(+)\n",
            " create mode 100644 README.md\n"
          ]
        }
      ],
      "source": [
        "!git pull origin main"
      ]
    },
    {
      "cell_type": "markdown",
      "metadata": {
        "id": "uBFXi4ldrzwe"
      },
      "source": [
        "PYTHON - zmienne, listy, pętle, słowniki, krotki, if, funkcje, wyjąrtki, obsługa plików"
      ]
    },
    {
      "cell_type": "code",
      "execution_count": null,
      "metadata": {
        "colab": {
          "background_save": true,
          "base_uri": "https://localhost:8080/"
        },
        "id": "GqvgEya8sQAe",
        "outputId": "8605f621-8e07-45c7-cf49-91205af6fc1d"
      },
      "outputs": [
        {
          "name": "stdout",
          "output_type": "stream",
          "text": [
            "<class 'int'>\n"
          ]
        }
      ],
      "source": [
        "liczba = 234 #int\n",
        "zmiennoprzecinkowa = 3.14 #float\n",
        "print(type(liczba))\n",
        "logiczna = True #false\n",
        "napis = \"Tekst\"\n"
      ]
    },
    {
      "cell_type": "code",
      "source": [
        "gry = [\"fortnite\", \"minecraft\", \"cs\", 123, 456, 23]\n",
        "print(gry)\n",
        "print(gry[0])\n",
        "gry.append(\"nowy element\");\n",
        "print(gry)"
      ],
      "metadata": {
        "colab": {
          "base_uri": "https://localhost:8080/"
        },
        "id": "R2M9wA2FtIqb",
        "outputId": "dc3e737f-f1ca-44c9-bab0-ee10f8823f6e"
      },
      "execution_count": 21,
      "outputs": [
        {
          "output_type": "stream",
          "name": "stdout",
          "text": [
            "['fortnite', 'minecraft', 'cs', 123, 456, 23]\n",
            "fortnite\n",
            "['fortnite', 'minecraft', 'cs', 123, 456, 23, 'nowy element']\n"
          ]
        }
      ]
    },
    {
      "cell_type": "code",
      "source": [
        "#licznik = 0\n",
        "#while licznik <= 5:\n",
        " # print(licznik)\n",
        " # licznik += 1\n",
        "\n",
        "\n",
        "\n",
        "\n",
        "for element in range(5,11,2):\n",
        "  print(element)\n",
        "\n",
        "\n",
        "gry = [\"fortnite\", \"minecraft\", \"cs\"]\n",
        "for element in gry:\n",
        "  print(element)"
      ],
      "metadata": {
        "colab": {
          "base_uri": "https://localhost:8080/"
        },
        "id": "P1S_56o3t49L",
        "outputId": "63d2d35a-d2d9-4a33-ba72-4b66be53225e"
      },
      "execution_count": 29,
      "outputs": [
        {
          "output_type": "stream",
          "name": "stdout",
          "text": [
            "5\n",
            "7\n",
            "9\n",
            "fortnite\n",
            "minecraft\n",
            "cs\n"
          ]
        }
      ]
    },
    {
      "cell_type": "code",
      "source": [
        "slownik = {\"kot\" : \"cat\", \"pies\" : \"dog\", \"wąż\": \"snake\"}\n",
        "\n",
        "print(slownik[\"kot\"])\n",
        "\n",
        "print(\"Klucze słownika: \")\n",
        "for key in slownik.keys():\n",
        "  print(key)\n",
        "\n",
        "print(\"Wartości słownika: \")\n",
        "for value in slownik.values():\n",
        "  print(value)"
      ],
      "metadata": {
        "colab": {
          "base_uri": "https://localhost:8080/"
        },
        "id": "0LZAxcYYvcWi",
        "outputId": "d4c8bdd2-d7e1-4cb1-e390-e98b197f4192"
      },
      "execution_count": 31,
      "outputs": [
        {
          "output_type": "stream",
          "name": "stdout",
          "text": [
            "cat\n",
            "Klucze słownika: \n",
            "kot\n",
            "pies\n",
            "wąż\n",
            "Wartości słownika: \n",
            "cat\n",
            "dog\n",
            "snake\n"
          ]
        }
      ]
    },
    {
      "cell_type": "code",
      "source": [
        "# krotki (tuple w c#)\n",
        "wspolrzedne = (3,9)\n",
        "print(f\"wspolrzedne : {wspolrzedne[0]} {wspolrzedne[1]}\")\n",
        "\n",
        "if wspolrzedne[0] > 2 and wspolrzedne[1] > 2:\n",
        "  print(\"wartosc jest wieksza od 2\")\n",
        "else:\n",
        "  print(\"wartosc jest mniejsza od 2\")"
      ],
      "metadata": {
        "colab": {
          "base_uri": "https://localhost:8080/"
        },
        "id": "PfaJQiuRwd86",
        "outputId": "da3fc766-8d70-4e38-f62d-4a4e3888a6d1"
      },
      "execution_count": 34,
      "outputs": [
        {
          "output_type": "stream",
          "name": "stdout",
          "text": [
            "wspolrzedne : 3 9\n",
            "wartosc jest wieksza od 2\n"
          ]
        }
      ]
    },
    {
      "cell_type": "code",
      "source": [
        "def dodawanie(a, b):\n",
        "  return a+b\n",
        "\n",
        "print(dodawanie(2,5))"
      ],
      "metadata": {
        "colab": {
          "base_uri": "https://localhost:8080/"
        },
        "id": "B5Q0xQBCyDCB",
        "outputId": "3426477a-e98c-4389-db1f-77187cb837ff"
      },
      "execution_count": 35,
      "outputs": [
        {
          "output_type": "stream",
          "name": "stdout",
          "text": [
            "7\n"
          ]
        }
      ]
    },
    {
      "cell_type": "code",
      "source": [
        "with open(\"dane.txt\", \"r\") as file:\n",
        "  for line in file:\n",
        "    print(line)"
      ],
      "metadata": {
        "colab": {
          "base_uri": "https://localhost:8080/"
        },
        "id": "bza-4lNVyZTW",
        "outputId": "8e59beee-8307-4ca8-d332-3556d24254eb"
      },
      "execution_count": 38,
      "outputs": [
        {
          "output_type": "stream",
          "name": "stdout",
          "text": [
            "fortnite\n",
            "\n",
            "minecraft\n",
            "\n",
            "cs\n",
            "\n",
            "cos nowego\n"
          ]
        }
      ]
    },
    {
      "cell_type": "code",
      "source": [
        "with open(\"dane.txt\", \"a\") as file:\n",
        "  file.write(\"\\ncos nowego\")"
      ],
      "metadata": {
        "id": "I5Nm6fXRy6bQ"
      },
      "execution_count": 37,
      "outputs": []
    },
    {
      "cell_type": "code",
      "source": [
        "# dzielenie\n",
        "try:\n",
        "  dzielna = float ( input(\"Podaj dzielną\") )\n",
        "  dzielnik = float ( input(\"Podaj dzielnik\") )\n",
        "  suma = dzielna / dzielnik\n",
        "except Exception as e:\n",
        "  print(e)\n",
        "finally:\n",
        "  print(\"Koniec programu\")\n",
        "print(\"ostatnia linijka\")"
      ],
      "metadata": {
        "colab": {
          "base_uri": "https://localhost:8080/"
        },
        "id": "XzT_pwKjzQTh",
        "outputId": "9ade5d78-299d-45be-99c5-2d2b13c0a877"
      },
      "execution_count": 41,
      "outputs": [
        {
          "output_type": "stream",
          "name": "stdout",
          "text": [
            "Podaj dzielną23\n",
            "Podaj dzielnik0\n",
            "float division by zero\n",
            "Koniec programu\n",
            "ostatnia linijka\n"
          ]
        }
      ]
    }
  ],
  "metadata": {
    "colab": {
      "provenance": [],
      "authorship_tag": "ABX9TyN5fWuCrs5bvbVaYb+mvG/b"
    },
    "kernelspec": {
      "display_name": "Python 3",
      "name": "python3"
    },
    "language_info": {
      "name": "python"
    }
  },
  "nbformat": 4,
  "nbformat_minor": 0
}